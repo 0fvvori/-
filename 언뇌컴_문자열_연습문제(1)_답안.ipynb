{
  "nbformat": 4,
  "nbformat_minor": 0,
  "metadata": {
    "colab": {
      "name": "언뇌컴 문자열 연습문제(1) 답안",
      "provenance": [],
      "authorship_tag": "ABX9TyP8Wne1RnTfm+KmSkv7h5AR",
      "include_colab_link": true
    },
    "kernelspec": {
      "name": "python3",
      "display_name": "Python 3"
    },
    "language_info": {
      "name": "python"
    }
  },
  "cells": [
    {
      "cell_type": "markdown",
      "metadata": {
        "id": "view-in-github",
        "colab_type": "text"
      },
      "source": [
        "<a href=\"https://colab.research.google.com/github/0fvvori/-/blob/main/%EC%96%B8%EB%87%8C%EC%BB%B4_%EB%AC%B8%EC%9E%90%EC%97%B4_%EC%97%B0%EC%8A%B5%EB%AC%B8%EC%A0%9C(1)_%EB%8B%B5%EC%95%88.ipynb\" target=\"_parent\"><img src=\"https://colab.research.google.com/assets/colab-badge.svg\" alt=\"Open In Colab\"/></a>"
      ]
    },
    {
      "cell_type": "code",
      "execution_count": null,
      "metadata": {
        "id": "VOlzlaKHsmbX"
      },
      "outputs": [],
      "source": [
        "a='abcdef'\n",
        "string=''\n",
        "for i in a:\n",
        "  string+=i\n",
        "  print(string)"
      ]
    },
    {
      "cell_type": "code",
      "source": [
        "a='abcedf'\n",
        "n=1\n",
        "while n <= len(a):\n",
        "  print(a[:n])\n",
        "  n+=1"
      ],
      "metadata": {
        "id": "p1ZqKFEPudMj"
      },
      "execution_count": null,
      "outputs": []
    },
    {
      "cell_type": "markdown",
      "source": [
        "n이 1부터 시작하는 이유: 0은 빈문자열에 해당하기 때문"
      ],
      "metadata": {
        "id": "UZV0eZ1puzUn"
      }
    }
  ]
}