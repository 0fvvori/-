{
  "nbformat": 4,
  "nbformat_minor": 0,
  "metadata": {
    "colab": {
      "name": "언뇌컴 연습문제(1)",
      "provenance": [],
      "authorship_tag": "ABX9TyMBUur0AyqVJusH5ODKKXs4",
      "include_colab_link": true
    },
    "kernelspec": {
      "name": "python3",
      "display_name": "Python 3"
    },
    "language_info": {
      "name": "python"
    }
  },
  "cells": [
    {
      "cell_type": "markdown",
      "metadata": {
        "id": "view-in-github",
        "colab_type": "text"
      },
      "source": [
        "<a href=\"https://colab.research.google.com/github/0fvvori/-/blob/main/%EC%96%B8%EB%87%8C%EC%BB%B4_%EC%97%B0%EC%8A%B5%EB%AC%B8%EC%A0%9C(1).ipynb\" target=\"_parent\"><img src=\"https://colab.research.google.com/assets/colab-badge.svg\" alt=\"Open In Colab\"/></a>"
      ]
    },
    {
      "cell_type": "code",
      "execution_count": null,
      "metadata": {
        "id": "I5lR5uRCUHyH"
      },
      "outputs": [],
      "source": [
        "total=0\n",
        "for i in range(1,101):\n",
        "  if i%2==0:\n",
        "    total+=i\n",
        "    print(i,total)"
      ]
    },
    {
      "cell_type": "code",
      "source": [
        "a=['cat', 'tiger', 'elephant']\n",
        "for x in a:\n",
        "  if len(x)>3:\n",
        "    print(x)"
      ],
      "metadata": {
        "id": "CQUUWxT9Wama"
      },
      "execution_count": null,
      "outputs": []
    },
    {
      "cell_type": "code",
      "source": [
        "total=0\n",
        "for i in range(0,31):\n",
        "  if i in range(11,21): continue\n",
        "  total+=i\n",
        "  print(i,total)"
      ],
      "metadata": {
        "id": "VC2ijaAoXQSF"
      },
      "execution_count": null,
      "outputs": []
    },
    {
      "cell_type": "code",
      "source": [
        "X=[1,2,3,4,5,6,7,8,9,10]"
      ],
      "metadata": {
        "id": "41liz8d2YR0K"
      },
      "execution_count": 22,
      "outputs": []
    },
    {
      "cell_type": "code",
      "source": [
        "total=0\n",
        "for x in X:\n",
        "  total+=x\n",
        "  if x==10:\n",
        "    print(total)"
      ],
      "metadata": {
        "id": "wY-qLgTDYdBk"
      },
      "execution_count": null,
      "outputs": []
    },
    {
      "cell_type": "code",
      "source": [
        "total=0\n",
        "for x in X:\n",
        "  total+=x\n",
        "  if x==10:\n",
        "    print(total/len(X))"
      ],
      "metadata": {
        "id": "ublAC2MbZlRr"
      },
      "execution_count": null,
      "outputs": []
    },
    {
      "cell_type": "code",
      "source": [
        "for x in X:\n",
        "  if x>=4 and x<7:\n",
        "    print(x)"
      ],
      "metadata": {
        "id": "BBrHgehjaVd0"
      },
      "execution_count": null,
      "outputs": []
    },
    {
      "cell_type": "code",
      "source": [
        "total=0\n",
        "for x in X:\n",
        "  total+=x\n",
        "  if x==10:\n",
        "    print(total,total/len(X))\n",
        "  elif x>=4 and x<7:\n",
        "    print(x)"
      ],
      "metadata": {
        "id": "C0FgjMk8ayCL"
      },
      "execution_count": null,
      "outputs": []
    },
    {
      "cell_type": "code",
      "source": [
        "Y=[1,1.0,1.6,2,5.1]"
      ],
      "metadata": {
        "id": "VruxyR2VapME"
      },
      "execution_count": 33,
      "outputs": []
    },
    {
      "cell_type": "code",
      "source": [
        "for y in Y:\n",
        "  if type(y)==int:\n",
        "    print(y)"
      ],
      "metadata": {
        "id": "t9BWIApzcII2"
      },
      "execution_count": null,
      "outputs": []
    },
    {
      "cell_type": "code",
      "source": [
        "for y in Y:\n",
        "  if type(y)==int:\n",
        "    print(float(y))\n",
        "  elif type(y)==float:\n",
        "    print(int(y))"
      ],
      "metadata": {
        "id": "p44Cb8XscZF2"
      },
      "execution_count": null,
      "outputs": []
    },
    {
      "cell_type": "code",
      "source": [
        "total=0\n",
        "for y in Y:\n",
        "  if type(y)==float:\n",
        "    total+=y\n",
        "    if y>5:\n",
        "      print(total)"
      ],
      "metadata": {
        "colab": {
          "base_uri": "https://localhost:8080/"
        },
        "id": "hgO4t1NBdT2T",
        "outputId": "5f5c0247-6952-45a6-eebe-a41265d9aa54"
      },
      "execution_count": 46,
      "outputs": [
        {
          "output_type": "stream",
          "name": "stdout",
          "text": [
            "7.699999999999999\n"
          ]
        }
      ]
    },
    {
      "cell_type": "markdown",
      "source": [
        ""
      ],
      "metadata": {
        "id": "8SfvgIgedcN9"
      }
    }
  ]
}