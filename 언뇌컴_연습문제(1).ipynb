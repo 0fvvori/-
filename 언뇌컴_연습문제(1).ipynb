{
  "nbformat": 4,
  "nbformat_minor": 0,
  "metadata": {
    "colab": {
      "name": "언뇌컴 연습문제(1)",
      "provenance": [],
      "authorship_tag": "ABX9TyNGBPN1IqkP/xrgpPA8MN/v",
      "include_colab_link": true
    },
    "kernelspec": {
      "name": "python3",
      "display_name": "Python 3"
    },
    "language_info": {
      "name": "python"
    }
  },
  "cells": [
    {
      "cell_type": "markdown",
      "metadata": {
        "id": "view-in-github",
        "colab_type": "text"
      },
      "source": [
        "<a href=\"https://colab.research.google.com/github/0fvvori/-/blob/main/%EC%96%B8%EB%87%8C%EC%BB%B4_%EC%97%B0%EC%8A%B5%EB%AC%B8%EC%A0%9C(1).ipynb\" target=\"_parent\"><img src=\"https://colab.research.google.com/assets/colab-badge.svg\" alt=\"Open In Colab\"/></a>"
      ]
    },
    {
      "cell_type": "code",
      "execution_count": null,
      "metadata": {
        "id": "I5lR5uRCUHyH"
      },
      "outputs": [],
      "source": [
        "total=0\n",
        "for i in range(1,101):\n",
        "  if i%2==0:\n",
        "    total+=i\n",
        "    print(i,total)"
      ]
    },
    {
      "cell_type": "markdown",
      "source": [
        "두 개의 변수: 짝수, 합산 결과\n",
        "\n",
        "for 구문은 in 뒤에 따라올 데이터(리스트)구조 필요함\n",
        "\n",
        "while + 조건식(짝수 변수)\n",
        "\n",
        "교수님 답안: while + 짝수 변수의 조건문 사용\n",
        "pass, continue 사용한 식도 연습해볼 것(홀수일 경우?)"
      ],
      "metadata": {
        "id": "FToYHpPTRAB1"
      }
    },
    {
      "cell_type": "code",
      "source": [
        "#1예시답안\n",
        "n=0\n",
        "toal=0\n",
        "while n <100:\n",
        "  n+=2\n",
        "  total+=n\n",
        "  print(n,total)"
      ],
      "metadata": {
        "id": "gDI6Fb11SZeI"
      },
      "execution_count": null,
      "outputs": []
    },
    {
      "cell_type": "code",
      "source": [
        "a=['cat', 'tiger', 'elephant']\n",
        "for x in a:\n",
        "  if len(x)>3:\n",
        "    print(x)"
      ],
      "metadata": {
        "id": "CQUUWxT9Wama"
      },
      "execution_count": null,
      "outputs": []
    },
    {
      "cell_type": "markdown",
      "source": [
        "continue랑 if-else구문으로도 생각"
      ],
      "metadata": {
        "id": "CrQc0mRpXeeX"
      }
    },
    {
      "cell_type": "code",
      "source": [
        "total=0\n",
        "for i in range(1,31):\n",
        "  if i in range(11,21): continue\n",
        "  total+=i\n",
        "  print(i,total)"
      ],
      "metadata": {
        "id": "VC2ijaAoXQSF"
      },
      "execution_count": null,
      "outputs": []
    },
    {
      "cell_type": "markdown",
      "source": [
        "while 구문으로 만들어보기 "
      ],
      "metadata": {
        "id": "Cn71PZEnY1Kp"
      }
    },
    {
      "cell_type": "code",
      "source": [
        "X=[1,2,3,4,5,6,7,8,9,10]"
      ],
      "metadata": {
        "id": "41liz8d2YR0K"
      },
      "execution_count": 2,
      "outputs": []
    },
    {
      "cell_type": "code",
      "source": [
        "total=0\n",
        "for x in X:\n",
        "  total+=x\n",
        "print(total)"
      ],
      "metadata": {
        "id": "wY-qLgTDYdBk"
      },
      "execution_count": null,
      "outputs": []
    },
    {
      "cell_type": "code",
      "source": [
        "total=0\n",
        "for x in X:\n",
        "  total+=x\n",
        "print(total/len(X))"
      ],
      "metadata": {
        "id": "ublAC2MbZlRr",
        "colab": {
          "base_uri": "https://localhost:8080/"
        },
        "outputId": "91019ca4-cf78-4522-e321-c832270973d5"
      },
      "execution_count": 8,
      "outputs": [
        {
          "output_type": "stream",
          "name": "stdout",
          "text": [
            "5.5\n"
          ]
        }
      ]
    },
    {
      "cell_type": "code",
      "source": [
        "sum(X)/len(X)"
      ],
      "metadata": {
        "id": "Vh6fxwJAaPDI"
      },
      "execution_count": null,
      "outputs": []
    },
    {
      "cell_type": "code",
      "source": [
        "for x in X:\n",
        "  if x>=4 and x<7:\n",
        "    print(x)"
      ],
      "metadata": {
        "id": "BBrHgehjaVd0"
      },
      "execution_count": null,
      "outputs": []
    },
    {
      "cell_type": "code",
      "source": [
        "total=0\n",
        "for x in X:\n",
        "  if x>=4 and x<7:\n",
        "    print(x)\n",
        "  total+=x\n",
        "print(total, total/len(X))"
      ],
      "metadata": {
        "id": "C0FgjMk8ayCL",
        "colab": {
          "base_uri": "https://localhost:8080/"
        },
        "outputId": "d1c1b8e0-dc21-44b5-bfad-3319887a4fe8"
      },
      "execution_count": 12,
      "outputs": [
        {
          "output_type": "stream",
          "name": "stdout",
          "text": [
            "4\n",
            "5\n",
            "6\n",
            "55 5.5\n"
          ]
        }
      ]
    },
    {
      "cell_type": "code",
      "source": [
        "Y=[1,1.0,1.6,2,5.1]"
      ],
      "metadata": {
        "id": "VruxyR2VapME"
      },
      "execution_count": 14,
      "outputs": []
    },
    {
      "cell_type": "code",
      "source": [
        "for y in Y:\n",
        "  if type(y)==int:\n",
        "    print(y)"
      ],
      "metadata": {
        "id": "t9BWIApzcII2",
        "colab": {
          "base_uri": "https://localhost:8080/"
        },
        "outputId": "bf3348b3-ae56-4944-d902-523eb7a7af7a"
      },
      "execution_count": 15,
      "outputs": [
        {
          "output_type": "stream",
          "name": "stdout",
          "text": [
            "1\n",
            "2\n"
          ]
        }
      ]
    },
    {
      "cell_type": "code",
      "source": [
        "for y in Y:\n",
        "  if type(y)==int:\n",
        "    print(float(y))\n",
        "  elif type(y)==float:\n",
        "    print(int(y))"
      ],
      "metadata": {
        "id": "p44Cb8XscZF2",
        "colab": {
          "base_uri": "https://localhost:8080/"
        },
        "outputId": "60c178e5-6251-445d-f58f-a907bb974711"
      },
      "execution_count": 16,
      "outputs": [
        {
          "output_type": "stream",
          "name": "stdout",
          "text": [
            "1.0\n",
            "1\n",
            "1\n",
            "2.0\n",
            "5\n"
          ]
        }
      ]
    },
    {
      "cell_type": "code",
      "source": [
        "total=0\n",
        "for y in Y:\n",
        "  if type(y)==float:\n",
        "    total+=y\n",
        "print(total)"
      ],
      "metadata": {
        "colab": {
          "base_uri": "https://localhost:8080/"
        },
        "id": "hgO4t1NBdT2T",
        "outputId": "9e4c1b0e-4ec2-455a-c64f-e9a1425f450c"
      },
      "execution_count": 17,
      "outputs": [
        {
          "output_type": "stream",
          "name": "stdout",
          "text": [
            "7.699999999999999\n"
          ]
        }
      ]
    }
  ]
}