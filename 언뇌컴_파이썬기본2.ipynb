{
  "nbformat": 4,
  "nbformat_minor": 0,
  "metadata": {
    "colab": {
      "name": "언뇌컴_파이썬기본2",
      "provenance": [],
      "authorship_tag": "ABX9TyN9DrTY9offfQLzaDHr8qhi",
      "include_colab_link": true
    },
    "kernelspec": {
      "name": "python3",
      "display_name": "Python 3"
    },
    "language_info": {
      "name": "python"
    }
  },
  "cells": [
    {
      "cell_type": "markdown",
      "metadata": {
        "id": "view-in-github",
        "colab_type": "text"
      },
      "source": [
        "<a href=\"https://colab.research.google.com/github/0fvvori/-/blob/main/%EC%96%B8%EB%87%8C%EC%BB%B4_%ED%8C%8C%EC%9D%B4%EC%8D%AC%EA%B8%B0%EB%B3%B82.ipynb\" target=\"_parent\"><img src=\"https://colab.research.google.com/assets/colab-badge.svg\" alt=\"Open In Colab\"/></a>"
      ]
    },
    {
      "cell_type": "code",
      "execution_count": 1,
      "metadata": {
        "colab": {
          "base_uri": "https://localhost:8080/"
        },
        "id": "OLF7hf_QBFks",
        "outputId": "c79a4139-f932-406d-8843-e0f3b656110e"
      },
      "outputs": [
        {
          "output_type": "stream",
          "name": "stdout",
          "text": [
            "축하합니다\n"
          ]
        }
      ],
      "source": [
        "score=95\n",
        "if score>=90:\n",
        "  print('축하합니다')\n",
        "else:\n",
        "  print('다음기회에')"
      ]
    },
    {
      "cell_type": "code",
      "source": [
        "score=80\n",
        "if score>=90:\n",
        "  print('축하합니다')\n",
        "else:\n",
        "  print('다음 기회에')"
      ],
      "metadata": {
        "colab": {
          "base_uri": "https://localhost:8080/"
        },
        "id": "owBb0E9XFgYC",
        "outputId": "b987074c-6f03-4b7d-9c49-5020ab49aca4"
      },
      "execution_count": 2,
      "outputs": [
        {
          "output_type": "stream",
          "name": "stdout",
          "text": [
            "다음 기회에\n"
          ]
        }
      ]
    },
    {
      "cell_type": "code",
      "source": [
        "score=80\n",
        "if score>=90:\n",
        "  print('축하합니다')"
      ],
      "metadata": {
        "id": "0ill_935Fss6"
      },
      "execution_count": 4,
      "outputs": []
    },
    {
      "cell_type": "code",
      "source": [
        "score=80\n",
        "if score>=90:\n",
        "  print('축하합니다')\n",
        "elif score < 90 and score >=80:\n",
        "  print('다음 기회에')"
      ],
      "metadata": {
        "colab": {
          "base_uri": "https://localhost:8080/"
        },
        "id": "2bvzQ4qmF7Te",
        "outputId": "5d458a68-67ed-44a4-c827-511d3406c543"
      },
      "execution_count": 5,
      "outputs": [
        {
          "output_type": "stream",
          "name": "stdout",
          "text": [
            "다음 기회에\n"
          ]
        }
      ]
    },
    {
      "cell_type": "code",
      "source": [
        "score=45\n",
        "if score>=90:\n",
        "  print('A학점')\n",
        "elif score>=80:\n",
        "  print('B학점')\n",
        "elif score>=70:\n",
        "  print('C학점')\n",
        "elif score>= 60:\n",
        "  print('D학점')\n",
        "else:\n",
        "  print('F학점')"
      ],
      "metadata": {
        "colab": {
          "base_uri": "https://localhost:8080/"
        },
        "id": "pnz61mNoGVws",
        "outputId": "9ef83ab4-7297-4235-ca71-ab42a834b59a"
      },
      "execution_count": 6,
      "outputs": [
        {
          "output_type": "stream",
          "name": "stdout",
          "text": [
            "F학점\n"
          ]
        }
      ]
    },
    {
      "cell_type": "code",
      "source": [
        "score=80\n",
        "if score>=80:\n",
        "  if score>=90:\n",
        "      print('축하합니다')\n",
        "  else:\n",
        "      print('더 노력을')"
      ],
      "metadata": {
        "colab": {
          "base_uri": "https://localhost:8080/"
        },
        "id": "loQjc_-xG36I",
        "outputId": "9a0a3070-4f8e-4097-be82-c1c64c857968"
      },
      "execution_count": 7,
      "outputs": [
        {
          "output_type": "stream",
          "name": "stdout",
          "text": [
            "더 노력을\n"
          ]
        }
      ]
    },
    {
      "cell_type": "code",
      "source": [
        "score=98\n",
        "if score>=80:\n",
        "  if score>=90:\n",
        "    if score>=95:\n",
        "      print('아주 훌륭하네요!')\n",
        "    else:\n",
        "      print('더 노력을!')"
      ],
      "metadata": {
        "colab": {
          "base_uri": "https://localhost:8080/"
        },
        "id": "oZpVsMjFHL9E",
        "outputId": "d3ce3f7a-7937-4737-fe57-097ddacc8b66"
      },
      "execution_count": 8,
      "outputs": [
        {
          "output_type": "stream",
          "name": "stdout",
          "text": [
            "아주 훌륭하네요!\n"
          ]
        }
      ]
    },
    {
      "cell_type": "code",
      "source": [
        "if 1:\n",
        "  print('성공')"
      ],
      "metadata": {
        "colab": {
          "base_uri": "https://localhost:8080/"
        },
        "id": "I3QIF16vHcO2",
        "outputId": "aa2fd0be-98f7-445a-9bb4-8029307e6da7"
      },
      "execution_count": 9,
      "outputs": [
        {
          "output_type": "stream",
          "name": "stdout",
          "text": [
            "성공\n"
          ]
        }
      ]
    },
    {
      "cell_type": "code",
      "source": [
        "if 0:\n",
        "  print('실패')"
      ],
      "metadata": {
        "id": "N6hsB8ZYHzHO"
      },
      "execution_count": 10,
      "outputs": []
    },
    {
      "cell_type": "code",
      "source": [
        "if 'a':\n",
        "  print('성공')"
      ],
      "metadata": {
        "colab": {
          "base_uri": "https://localhost:8080/"
        },
        "id": "kzgY3mcZH38t",
        "outputId": "28841b61-60bb-43fd-a7ff-e3559c28cfaf"
      },
      "execution_count": 11,
      "outputs": [
        {
          "output_type": "stream",
          "name": "stdout",
          "text": [
            "성공\n"
          ]
        }
      ]
    },
    {
      "cell_type": "code",
      "source": [
        "if []:\n",
        "  print('실패')"
      ],
      "metadata": {
        "id": "jxBsnlpGH-B1"
      },
      "execution_count": 22,
      "outputs": []
    },
    {
      "cell_type": "code",
      "source": [
        "a=10\n",
        "b=20\n",
        "if not a==b:\n",
        "  print('a==b', '는 거짓이다')"
      ],
      "metadata": {
        "colab": {
          "base_uri": "https://localhost:8080/"
        },
        "id": "AhPApFy7Ir02",
        "outputId": "e1aa22f9-5a42-423a-d220-fe49cc213179"
      },
      "execution_count": 23,
      "outputs": [
        {
          "output_type": "stream",
          "name": "stdout",
          "text": [
            "a==b 는 거짓이다\n"
          ]
        }
      ]
    },
    {
      "cell_type": "code",
      "source": [
        "a=['cat', 'cow', 'tiger']\n",
        "for x in a:\n",
        "  print(x,'\\t',len(x))"
      ],
      "metadata": {
        "colab": {
          "base_uri": "https://localhost:8080/"
        },
        "id": "zqcBLu29IXd4",
        "outputId": "fc37a112-5b49-47da-a887-02d2fe390eb9"
      },
      "execution_count": 24,
      "outputs": [
        {
          "output_type": "stream",
          "name": "stdout",
          "text": [
            "cat \t 3\n",
            "cow \t 3\n",
            "tiger \t 5\n"
          ]
        }
      ]
    },
    {
      "cell_type": "code",
      "source": [
        "a=['cat', 'cow', 'tiger']\n",
        "for x in a:\n",
        "  if len(x)==3:\n",
        "    print(x)"
      ],
      "metadata": {
        "colab": {
          "base_uri": "https://localhost:8080/"
        },
        "id": "W_QSB-GfJIZw",
        "outputId": "bedfba9b-6b5d-4e05-e78f-5a6a507d012d"
      },
      "execution_count": 25,
      "outputs": [
        {
          "output_type": "stream",
          "name": "stdout",
          "text": [
            "cat\n",
            "cow\n"
          ]
        }
      ]
    },
    {
      "cell_type": "code",
      "source": [
        "a=0\n",
        "b=[1,2,3,4,5]\n",
        "for x in b:\n",
        "  a+=x\n",
        "  print(x,a)"
      ],
      "metadata": {
        "colab": {
          "base_uri": "https://localhost:8080/"
        },
        "id": "TzEcF7SxJYIX",
        "outputId": "b62a39cd-3b81-4af3-caf2-61a72d6db4d5"
      },
      "execution_count": 26,
      "outputs": [
        {
          "output_type": "stream",
          "name": "stdout",
          "text": [
            "1 1\n",
            "2 3\n",
            "3 6\n",
            "4 10\n",
            "5 15\n"
          ]
        }
      ]
    },
    {
      "cell_type": "code",
      "source": [
        "x=''\n",
        "y=['나는', '학교에', '간다']\n",
        "for z in y:\n",
        "  x+=z\n",
        "print(z,x)"
      ],
      "metadata": {
        "colab": {
          "base_uri": "https://localhost:8080/"
        },
        "id": "CH1QhxT0JnGE",
        "outputId": "ed5ee600-7cca-4eae-a9a4-1087f744cde3"
      },
      "execution_count": 29,
      "outputs": [
        {
          "output_type": "stream",
          "name": "stdout",
          "text": [
            "간다 나는학교에간다\n"
          ]
        }
      ]
    },
    {
      "cell_type": "markdown",
      "source": [
        "print의 들여쓰기 위치 따라 출력값 달라짐 주의!\n",
        "for문 밖에 있는 print이므로 for문에서의 마지막 z값이 할당되고, 그때의 x값이 출력됨"
      ],
      "metadata": {
        "id": "_9YtMb5-KL-P"
      }
    },
    {
      "cell_type": "code",
      "source": [
        "a=0\n",
        "b=[1,2,3,4,5]\n",
        "for x in b:\n",
        "  a+=x\n",
        "  if x%2==0:\n",
        "    print(x,a)"
      ],
      "metadata": {
        "colab": {
          "base_uri": "https://localhost:8080/"
        },
        "id": "JS1ojibyKYqe",
        "outputId": "4d9ce057-f2b4-432f-cb8a-c207cf901743"
      },
      "execution_count": 33,
      "outputs": [
        {
          "output_type": "stream",
          "name": "stdout",
          "text": [
            "2 3\n",
            "4 10\n"
          ]
        }
      ]
    },
    {
      "cell_type": "code",
      "source": [
        "a=0\n",
        "b=[1,2,3,4,5,6,7,8,9,10]\n",
        "for x in b:\n",
        "  a+=x\n",
        "  if x==10:break\n",
        "  if x%2==0:continue\n",
        "  print(x,a)"
      ],
      "metadata": {
        "colab": {
          "base_uri": "https://localhost:8080/"
        },
        "id": "MzkMWlmcK_eo",
        "outputId": "245c05f8-0eeb-484b-bec8-f9f8a85dd4ba"
      },
      "execution_count": 34,
      "outputs": [
        {
          "output_type": "stream",
          "name": "stdout",
          "text": [
            "1 1\n",
            "3 6\n",
            "5 15\n",
            "7 28\n",
            "9 45\n"
          ]
        }
      ]
    },
    {
      "cell_type": "code",
      "source": [
        "a=0\n",
        "while a<10:\n",
        "  a=a+1\n",
        "  if a==10:break\n",
        "  if a%2==0:continue\n",
        "  print(a)"
      ],
      "metadata": {
        "colab": {
          "base_uri": "https://localhost:8080/"
        },
        "id": "R0fll82gNBGL",
        "outputId": "cef24f0e-b78e-4f8f-b8fd-ed80395e846e"
      },
      "execution_count": 37,
      "outputs": [
        {
          "output_type": "stream",
          "name": "stdout",
          "text": [
            "1\n",
            "3\n",
            "5\n",
            "7\n",
            "9\n"
          ]
        }
      ]
    },
    {
      "cell_type": "code",
      "source": [
        "a=0\n",
        "while a<10:\n",
        "  a+=1\n",
        "  if a==10:\n",
        "    break\n",
        "  if a%2==0:\n",
        "    continue\n",
        "  print(a)"
      ],
      "metadata": {
        "colab": {
          "base_uri": "https://localhost:8080/"
        },
        "id": "hJ6DyTjWPWyx",
        "outputId": "f12e8509-a16b-4f3e-a443-1f57e6750fbb"
      },
      "execution_count": 38,
      "outputs": [
        {
          "output_type": "stream",
          "name": "stdout",
          "text": [
            "1\n",
            "3\n",
            "5\n",
            "7\n",
            "9\n"
          ]
        }
      ]
    },
    {
      "cell_type": "code",
      "source": [
        "a=['a', 'b']; b=['A', 'B']\n",
        "for i in a:\n",
        "  for j in b:\n",
        "    print(j)\n",
        "  print(i+j)"
      ],
      "metadata": {
        "colab": {
          "base_uri": "https://localhost:8080/"
        },
        "id": "wMD-LMKtNxkB",
        "outputId": "98e01cd7-74dc-4b64-f62c-67a20301feb4"
      },
      "execution_count": 42,
      "outputs": [
        {
          "output_type": "stream",
          "name": "stdout",
          "text": [
            "A\n",
            "B\n",
            "aB\n",
            "A\n",
            "B\n",
            "bB\n"
          ]
        }
      ]
    },
    {
      "cell_type": "code",
      "source": [
        "a=['a', 'b']; b=['A', 'B']\n",
        "for i in a:\n",
        "  for j in b:\n",
        "    if j=='B':break\n",
        "    print(j)\n",
        "  print(i+j)"
      ],
      "metadata": {
        "colab": {
          "base_uri": "https://localhost:8080/"
        },
        "id": "hcqWba0wON11",
        "outputId": "b2131c54-2fe1-4b0a-dd75-e00cbd955818"
      },
      "execution_count": 41,
      "outputs": [
        {
          "output_type": "stream",
          "name": "stdout",
          "text": [
            "A\n",
            "aB\n",
            "A\n",
            "bB\n"
          ]
        }
      ]
    },
    {
      "cell_type": "markdown",
      "source": [
        "j=='A' break랑 j='B'break 출력값 서로 다름 주의\n",
        "break전까지 처리한 결과 유지"
      ],
      "metadata": {
        "id": "FT8hB6xzQSRw"
      }
    },
    {
      "cell_type": "code",
      "source": [
        "a=['a', 'b']; b=['A', 'B']\n",
        "for i in a:\n",
        "  for j in b:\n",
        "    if j=='A':continue\n",
        "    print(j)\n",
        "  print(i+j)"
      ],
      "metadata": {
        "colab": {
          "base_uri": "https://localhost:8080/"
        },
        "id": "wkKTqilmQY3H",
        "outputId": "d6df7b09-141f-4e62-a9cc-8ef2ab7e88cf"
      },
      "execution_count": 43,
      "outputs": [
        {
          "output_type": "stream",
          "name": "stdout",
          "text": [
            "B\n",
            "aB\n",
            "B\n",
            "bB\n"
          ]
        }
      ]
    },
    {
      "cell_type": "code",
      "source": [
        ""
      ],
      "metadata": {
        "id": "iEgdrnoqRDsP"
      },
      "execution_count": null,
      "outputs": []
    }
  ]
}